{
  "nbformat": 4,
  "nbformat_minor": 0,
  "metadata": {
    "colab": {
      "name": "BTCpredict.ipynb",
      "provenance": [],
      "authorship_tag": "ABX9TyNaSgfNr0oDFmeLj78ptWly",
      "include_colab_link": true
    },
    "kernelspec": {
      "name": "python3",
      "display_name": "Python 3"
    }
  },
  "cells": [
    {
      "cell_type": "markdown",
      "metadata": {
        "id": "view-in-github",
        "colab_type": "text"
      },
      "source": [
        "<a href=\"https://colab.research.google.com/github/LibirSoft/BTCpredict/blob/main/BTCpredict.ipynb\" target=\"_parent\"><img src=\"https://colab.research.google.com/assets/colab-badge.svg\" alt=\"Open In Colab\"/></a>"
      ]
    },
    {
      "cell_type": "code",
      "metadata": {
        "id": "V5bXAvqlOIyB"
      },
      "source": [
        "#This example makes simple bitcoin predictions\n",
        "import numpy as np\n",
        "import pandas as pd\n",
        "import matplotlib.pyplot as plt\n",
        "from sklearn.preprocessing import MinMaxScaler"
      ],
      "execution_count": null,
      "outputs": []
    },
    {
      "cell_type": "code",
      "metadata": {
        "id": "_E2nDTA8O4LV",
        "outputId": "c03ff120-72ce-458d-bb95-9935b1a9d807",
        "colab": {
          "resources": {
            "http://localhost:8080/nbextensions/google.colab/files.js": {
              "data": "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",
              "ok": true,
              "headers": [
                [
                  "content-type",
                  "application/javascript"
                ]
              ],
              "status": 200,
              "status_text": ""
            }
          },
          "base_uri": "https://localhost:8080/",
          "height": 321
        }
      },
      "source": [
        "#data loading\n",
        "from google.colab import files\n",
        "uploaded = files.upload()\n",
        "data = pd.read_csv('BTC-USD.csv',date_parser=True)\n",
        "data.head(7)"
      ],
      "execution_count": null,
      "outputs": [
        {
          "output_type": "display_data",
          "data": {
            "text/html": [
              "\n",
              "     <input type=\"file\" id=\"files-d82a5bbe-9d33-4b77-8a65-085897200a96\" name=\"files[]\" multiple disabled\n",
              "        style=\"border:none\" />\n",
              "     <output id=\"result-d82a5bbe-9d33-4b77-8a65-085897200a96\">\n",
              "      Upload widget is only available when the cell has been executed in the\n",
              "      current browser session. Please rerun this cell to enable.\n",
              "      </output>\n",
              "      <script src=\"/nbextensions/google.colab/files.js\"></script> "
            ],
            "text/plain": [
              "<IPython.core.display.HTML object>"
            ]
          },
          "metadata": {
            "tags": []
          }
        },
        {
          "output_type": "stream",
          "text": [
            "Saving BTC-USD.csv to BTC-USD (2).csv\n"
          ],
          "name": "stdout"
        },
        {
          "output_type": "execute_result",
          "data": {
            "text/html": [
              "<div>\n",
              "<style scoped>\n",
              "    .dataframe tbody tr th:only-of-type {\n",
              "        vertical-align: middle;\n",
              "    }\n",
              "\n",
              "    .dataframe tbody tr th {\n",
              "        vertical-align: top;\n",
              "    }\n",
              "\n",
              "    .dataframe thead th {\n",
              "        text-align: right;\n",
              "    }\n",
              "</style>\n",
              "<table border=\"1\" class=\"dataframe\">\n",
              "  <thead>\n",
              "    <tr style=\"text-align: right;\">\n",
              "      <th></th>\n",
              "      <th>Date</th>\n",
              "      <th>Open</th>\n",
              "      <th>High</th>\n",
              "      <th>Low</th>\n",
              "      <th>Close</th>\n",
              "      <th>Adj Close</th>\n",
              "      <th>Volume</th>\n",
              "    </tr>\n",
              "  </thead>\n",
              "  <tbody>\n",
              "    <tr>\n",
              "      <th>0</th>\n",
              "      <td>2014-09-17</td>\n",
              "      <td>465.864014</td>\n",
              "      <td>468.174011</td>\n",
              "      <td>452.421997</td>\n",
              "      <td>457.334015</td>\n",
              "      <td>457.334015</td>\n",
              "      <td>21056800.0</td>\n",
              "    </tr>\n",
              "    <tr>\n",
              "      <th>1</th>\n",
              "      <td>2014-09-18</td>\n",
              "      <td>456.859985</td>\n",
              "      <td>456.859985</td>\n",
              "      <td>413.104004</td>\n",
              "      <td>424.440002</td>\n",
              "      <td>424.440002</td>\n",
              "      <td>34483200.0</td>\n",
              "    </tr>\n",
              "    <tr>\n",
              "      <th>2</th>\n",
              "      <td>2014-09-19</td>\n",
              "      <td>424.102997</td>\n",
              "      <td>427.834991</td>\n",
              "      <td>384.532013</td>\n",
              "      <td>394.795990</td>\n",
              "      <td>394.795990</td>\n",
              "      <td>37919700.0</td>\n",
              "    </tr>\n",
              "    <tr>\n",
              "      <th>3</th>\n",
              "      <td>2014-09-20</td>\n",
              "      <td>394.673004</td>\n",
              "      <td>423.295990</td>\n",
              "      <td>389.882996</td>\n",
              "      <td>408.903992</td>\n",
              "      <td>408.903992</td>\n",
              "      <td>36863600.0</td>\n",
              "    </tr>\n",
              "    <tr>\n",
              "      <th>4</th>\n",
              "      <td>2014-09-21</td>\n",
              "      <td>408.084991</td>\n",
              "      <td>412.425995</td>\n",
              "      <td>393.181000</td>\n",
              "      <td>398.821014</td>\n",
              "      <td>398.821014</td>\n",
              "      <td>26580100.0</td>\n",
              "    </tr>\n",
              "    <tr>\n",
              "      <th>5</th>\n",
              "      <td>2014-09-22</td>\n",
              "      <td>399.100006</td>\n",
              "      <td>406.915985</td>\n",
              "      <td>397.130005</td>\n",
              "      <td>402.152008</td>\n",
              "      <td>402.152008</td>\n",
              "      <td>24127600.0</td>\n",
              "    </tr>\n",
              "    <tr>\n",
              "      <th>6</th>\n",
              "      <td>2014-09-23</td>\n",
              "      <td>402.092010</td>\n",
              "      <td>441.557007</td>\n",
              "      <td>396.196991</td>\n",
              "      <td>435.790985</td>\n",
              "      <td>435.790985</td>\n",
              "      <td>45099500.0</td>\n",
              "    </tr>\n",
              "  </tbody>\n",
              "</table>\n",
              "</div>"
            ],
            "text/plain": [
              "         Date        Open        High  ...       Close   Adj Close      Volume\n",
              "0  2014-09-17  465.864014  468.174011  ...  457.334015  457.334015  21056800.0\n",
              "1  2014-09-18  456.859985  456.859985  ...  424.440002  424.440002  34483200.0\n",
              "2  2014-09-19  424.102997  427.834991  ...  394.795990  394.795990  37919700.0\n",
              "3  2014-09-20  394.673004  423.295990  ...  408.903992  408.903992  36863600.0\n",
              "4  2014-09-21  408.084991  412.425995  ...  398.821014  398.821014  26580100.0\n",
              "5  2014-09-22  399.100006  406.915985  ...  402.152008  402.152008  24127600.0\n",
              "6  2014-09-23  402.092010  441.557007  ...  435.790985  435.790985  45099500.0\n",
              "\n",
              "[7 rows x 7 columns]"
            ]
          },
          "metadata": {
            "tags": []
          },
          "execution_count": 33
        }
      ]
    },
    {
      "cell_type": "code",
      "metadata": {
        "id": "3NFA2TQyPrGP",
        "outputId": "a7d964c4-d5b3-4dbb-d622-fa3147f1e50f",
        "colab": {
          "base_uri": "https://localhost:8080/",
          "height": 419
        }
      },
      "source": [
        "data_training=df[data['Date']< '2020-01-01'].copy()\n",
        "data_training"
      ],
      "execution_count": null,
      "outputs": [
        {
          "output_type": "execute_result",
          "data": {
            "text/html": [
              "<div>\n",
              "<style scoped>\n",
              "    .dataframe tbody tr th:only-of-type {\n",
              "        vertical-align: middle;\n",
              "    }\n",
              "\n",
              "    .dataframe tbody tr th {\n",
              "        vertical-align: top;\n",
              "    }\n",
              "\n",
              "    .dataframe thead th {\n",
              "        text-align: right;\n",
              "    }\n",
              "</style>\n",
              "<table border=\"1\" class=\"dataframe\">\n",
              "  <thead>\n",
              "    <tr style=\"text-align: right;\">\n",
              "      <th></th>\n",
              "      <th>Date</th>\n",
              "      <th>Open</th>\n",
              "      <th>High</th>\n",
              "      <th>Low</th>\n",
              "      <th>Close</th>\n",
              "      <th>Adj Close</th>\n",
              "      <th>Volume</th>\n",
              "    </tr>\n",
              "  </thead>\n",
              "  <tbody>\n",
              "    <tr>\n",
              "      <th>0</th>\n",
              "      <td>2014-09-17</td>\n",
              "      <td>465.864014</td>\n",
              "      <td>468.174011</td>\n",
              "      <td>452.421997</td>\n",
              "      <td>457.334015</td>\n",
              "      <td>457.334015</td>\n",
              "      <td>2.105680e+07</td>\n",
              "    </tr>\n",
              "    <tr>\n",
              "      <th>1</th>\n",
              "      <td>2014-09-18</td>\n",
              "      <td>456.859985</td>\n",
              "      <td>456.859985</td>\n",
              "      <td>413.104004</td>\n",
              "      <td>424.440002</td>\n",
              "      <td>424.440002</td>\n",
              "      <td>3.448320e+07</td>\n",
              "    </tr>\n",
              "    <tr>\n",
              "      <th>2</th>\n",
              "      <td>2014-09-19</td>\n",
              "      <td>424.102997</td>\n",
              "      <td>427.834991</td>\n",
              "      <td>384.532013</td>\n",
              "      <td>394.795990</td>\n",
              "      <td>394.795990</td>\n",
              "      <td>3.791970e+07</td>\n",
              "    </tr>\n",
              "    <tr>\n",
              "      <th>3</th>\n",
              "      <td>2014-09-20</td>\n",
              "      <td>394.673004</td>\n",
              "      <td>423.295990</td>\n",
              "      <td>389.882996</td>\n",
              "      <td>408.903992</td>\n",
              "      <td>408.903992</td>\n",
              "      <td>3.686360e+07</td>\n",
              "    </tr>\n",
              "    <tr>\n",
              "      <th>4</th>\n",
              "      <td>2014-09-21</td>\n",
              "      <td>408.084991</td>\n",
              "      <td>412.425995</td>\n",
              "      <td>393.181000</td>\n",
              "      <td>398.821014</td>\n",
              "      <td>398.821014</td>\n",
              "      <td>2.658010e+07</td>\n",
              "    </tr>\n",
              "    <tr>\n",
              "      <th>...</th>\n",
              "      <td>...</td>\n",
              "      <td>...</td>\n",
              "      <td>...</td>\n",
              "      <td>...</td>\n",
              "      <td>...</td>\n",
              "      <td>...</td>\n",
              "      <td>...</td>\n",
              "    </tr>\n",
              "    <tr>\n",
              "      <th>1927</th>\n",
              "      <td>2019-12-27</td>\n",
              "      <td>7238.141113</td>\n",
              "      <td>7363.529297</td>\n",
              "      <td>7189.934082</td>\n",
              "      <td>7290.088379</td>\n",
              "      <td>7290.088379</td>\n",
              "      <td>2.277736e+10</td>\n",
              "    </tr>\n",
              "    <tr>\n",
              "      <th>1928</th>\n",
              "      <td>2019-12-28</td>\n",
              "      <td>7289.031250</td>\n",
              "      <td>7399.041016</td>\n",
              "      <td>7286.905273</td>\n",
              "      <td>7317.990234</td>\n",
              "      <td>7317.990234</td>\n",
              "      <td>2.136567e+10</td>\n",
              "    </tr>\n",
              "    <tr>\n",
              "      <th>1929</th>\n",
              "      <td>2019-12-29</td>\n",
              "      <td>7317.647461</td>\n",
              "      <td>7513.948242</td>\n",
              "      <td>7279.865234</td>\n",
              "      <td>7422.652832</td>\n",
              "      <td>7422.652832</td>\n",
              "      <td>2.244526e+10</td>\n",
              "    </tr>\n",
              "    <tr>\n",
              "      <th>1930</th>\n",
              "      <td>2019-12-30</td>\n",
              "      <td>7420.272949</td>\n",
              "      <td>7454.824219</td>\n",
              "      <td>7276.308105</td>\n",
              "      <td>7292.995117</td>\n",
              "      <td>7292.995117</td>\n",
              "      <td>2.287413e+10</td>\n",
              "    </tr>\n",
              "    <tr>\n",
              "      <th>1931</th>\n",
              "      <td>2019-12-31</td>\n",
              "      <td>7294.438965</td>\n",
              "      <td>7335.290039</td>\n",
              "      <td>7169.777832</td>\n",
              "      <td>7193.599121</td>\n",
              "      <td>7193.599121</td>\n",
              "      <td>2.116795e+10</td>\n",
              "    </tr>\n",
              "  </tbody>\n",
              "</table>\n",
              "<p>1932 rows × 7 columns</p>\n",
              "</div>"
            ],
            "text/plain": [
              "            Date         Open  ...    Adj Close        Volume\n",
              "0     2014-09-17   465.864014  ...   457.334015  2.105680e+07\n",
              "1     2014-09-18   456.859985  ...   424.440002  3.448320e+07\n",
              "2     2014-09-19   424.102997  ...   394.795990  3.791970e+07\n",
              "3     2014-09-20   394.673004  ...   408.903992  3.686360e+07\n",
              "4     2014-09-21   408.084991  ...   398.821014  2.658010e+07\n",
              "...          ...          ...  ...          ...           ...\n",
              "1927  2019-12-27  7238.141113  ...  7290.088379  2.277736e+10\n",
              "1928  2019-12-28  7289.031250  ...  7317.990234  2.136567e+10\n",
              "1929  2019-12-29  7317.647461  ...  7422.652832  2.244526e+10\n",
              "1930  2019-12-30  7420.272949  ...  7292.995117  2.287413e+10\n",
              "1931  2019-12-31  7294.438965  ...  7193.599121  2.116795e+10\n",
              "\n",
              "[1932 rows x 7 columns]"
            ]
          },
          "metadata": {
            "tags": []
          },
          "execution_count": 34
        }
      ]
    },
    {
      "cell_type": "code",
      "metadata": {
        "id": "bbAzkl9AV9rc",
        "outputId": "b33e6be2-e31a-4202-cf3a-b1bc8ac1deb4",
        "colab": {
          "base_uri": "https://localhost:8080/",
          "height": 419
        }
      },
      "source": [
        "data_test=data[data['Date']>'2020-01-01'].copy()\n",
        "data_test"
      ],
      "execution_count": null,
      "outputs": [
        {
          "output_type": "execute_result",
          "data": {
            "text/html": [
              "<div>\n",
              "<style scoped>\n",
              "    .dataframe tbody tr th:only-of-type {\n",
              "        vertical-align: middle;\n",
              "    }\n",
              "\n",
              "    .dataframe tbody tr th {\n",
              "        vertical-align: top;\n",
              "    }\n",
              "\n",
              "    .dataframe thead th {\n",
              "        text-align: right;\n",
              "    }\n",
              "</style>\n",
              "<table border=\"1\" class=\"dataframe\">\n",
              "  <thead>\n",
              "    <tr style=\"text-align: right;\">\n",
              "      <th></th>\n",
              "      <th>Date</th>\n",
              "      <th>Open</th>\n",
              "      <th>High</th>\n",
              "      <th>Low</th>\n",
              "      <th>Close</th>\n",
              "      <th>Adj Close</th>\n",
              "      <th>Volume</th>\n",
              "    </tr>\n",
              "  </thead>\n",
              "  <tbody>\n",
              "    <tr>\n",
              "      <th>1933</th>\n",
              "      <td>2020-01-02</td>\n",
              "      <td>7202.551270</td>\n",
              "      <td>7212.155273</td>\n",
              "      <td>6935.270020</td>\n",
              "      <td>6985.470215</td>\n",
              "      <td>6985.470215</td>\n",
              "      <td>2.080208e+10</td>\n",
              "    </tr>\n",
              "    <tr>\n",
              "      <th>1934</th>\n",
              "      <td>2020-01-03</td>\n",
              "      <td>6984.428711</td>\n",
              "      <td>7413.715332</td>\n",
              "      <td>6914.996094</td>\n",
              "      <td>7344.884277</td>\n",
              "      <td>7344.884277</td>\n",
              "      <td>2.811148e+10</td>\n",
              "    </tr>\n",
              "    <tr>\n",
              "      <th>1935</th>\n",
              "      <td>2020-01-04</td>\n",
              "      <td>7345.375488</td>\n",
              "      <td>7427.385742</td>\n",
              "      <td>7309.514160</td>\n",
              "      <td>7410.656738</td>\n",
              "      <td>7410.656738</td>\n",
              "      <td>1.844427e+10</td>\n",
              "    </tr>\n",
              "    <tr>\n",
              "      <th>1936</th>\n",
              "      <td>2020-01-05</td>\n",
              "      <td>7410.451660</td>\n",
              "      <td>7544.497070</td>\n",
              "      <td>7400.535645</td>\n",
              "      <td>7411.317383</td>\n",
              "      <td>7411.317383</td>\n",
              "      <td>1.972507e+10</td>\n",
              "    </tr>\n",
              "    <tr>\n",
              "      <th>1937</th>\n",
              "      <td>2020-01-06</td>\n",
              "      <td>7410.452148</td>\n",
              "      <td>7781.867188</td>\n",
              "      <td>7409.292969</td>\n",
              "      <td>7769.219238</td>\n",
              "      <td>7769.219238</td>\n",
              "      <td>2.327626e+10</td>\n",
              "    </tr>\n",
              "    <tr>\n",
              "      <th>...</th>\n",
              "      <td>...</td>\n",
              "      <td>...</td>\n",
              "      <td>...</td>\n",
              "      <td>...</td>\n",
              "      <td>...</td>\n",
              "      <td>...</td>\n",
              "      <td>...</td>\n",
              "    </tr>\n",
              "    <tr>\n",
              "      <th>2242</th>\n",
              "      <td>2020-11-06</td>\n",
              "      <td>15579.729492</td>\n",
              "      <td>15903.437500</td>\n",
              "      <td>15226.839844</td>\n",
              "      <td>15565.880859</td>\n",
              "      <td>15565.880859</td>\n",
              "      <td>3.983784e+10</td>\n",
              "    </tr>\n",
              "    <tr>\n",
              "      <th>2243</th>\n",
              "      <td>2020-11-07</td>\n",
              "      <td>15565.880859</td>\n",
              "      <td>15737.095703</td>\n",
              "      <td>14423.203125</td>\n",
              "      <td>14833.753906</td>\n",
              "      <td>14833.753906</td>\n",
              "      <td>3.502495e+10</td>\n",
              "    </tr>\n",
              "    <tr>\n",
              "      <th>2244</th>\n",
              "      <td>2020-11-08</td>\n",
              "      <td>14833.753906</td>\n",
              "      <td>15637.320313</td>\n",
              "      <td>14744.110352</td>\n",
              "      <td>15479.567383</td>\n",
              "      <td>15479.567383</td>\n",
              "      <td>2.663208e+10</td>\n",
              "    </tr>\n",
              "    <tr>\n",
              "      <th>2245</th>\n",
              "      <td>2020-11-09</td>\n",
              "      <td>NaN</td>\n",
              "      <td>NaN</td>\n",
              "      <td>NaN</td>\n",
              "      <td>NaN</td>\n",
              "      <td>NaN</td>\n",
              "      <td>NaN</td>\n",
              "    </tr>\n",
              "    <tr>\n",
              "      <th>2246</th>\n",
              "      <td>2020-11-10</td>\n",
              "      <td>15301.548828</td>\n",
              "      <td>15306.283203</td>\n",
              "      <td>15240.768555</td>\n",
              "      <td>15240.768555</td>\n",
              "      <td>15240.768555</td>\n",
              "      <td>3.403063e+10</td>\n",
              "    </tr>\n",
              "  </tbody>\n",
              "</table>\n",
              "<p>314 rows × 7 columns</p>\n",
              "</div>"
            ],
            "text/plain": [
              "            Date          Open  ...     Adj Close        Volume\n",
              "1933  2020-01-02   7202.551270  ...   6985.470215  2.080208e+10\n",
              "1934  2020-01-03   6984.428711  ...   7344.884277  2.811148e+10\n",
              "1935  2020-01-04   7345.375488  ...   7410.656738  1.844427e+10\n",
              "1936  2020-01-05   7410.451660  ...   7411.317383  1.972507e+10\n",
              "1937  2020-01-06   7410.452148  ...   7769.219238  2.327626e+10\n",
              "...          ...           ...  ...           ...           ...\n",
              "2242  2020-11-06  15579.729492  ...  15565.880859  3.983784e+10\n",
              "2243  2020-11-07  15565.880859  ...  14833.753906  3.502495e+10\n",
              "2244  2020-11-08  14833.753906  ...  15479.567383  2.663208e+10\n",
              "2245  2020-11-09           NaN  ...           NaN           NaN\n",
              "2246  2020-11-10  15301.548828  ...  15240.768555  3.403063e+10\n",
              "\n",
              "[314 rows x 7 columns]"
            ]
          },
          "metadata": {
            "tags": []
          },
          "execution_count": 35
        }
      ]
    },
    {
      "cell_type": "code",
      "metadata": {
        "id": "jampo2oQQvtX",
        "outputId": "1c149107-65a4-4f9a-ee7b-eb4fbbfe08ee",
        "colab": {
          "base_uri": "https://localhost:8080/",
          "height": 204
        }
      },
      "source": [
        "training_data=data_training.drop(['Date',\"Adj Close\"],axis=1)\n",
        "training_data.head()"
      ],
      "execution_count": null,
      "outputs": [
        {
          "output_type": "execute_result",
          "data": {
            "text/html": [
              "<div>\n",
              "<style scoped>\n",
              "    .dataframe tbody tr th:only-of-type {\n",
              "        vertical-align: middle;\n",
              "    }\n",
              "\n",
              "    .dataframe tbody tr th {\n",
              "        vertical-align: top;\n",
              "    }\n",
              "\n",
              "    .dataframe thead th {\n",
              "        text-align: right;\n",
              "    }\n",
              "</style>\n",
              "<table border=\"1\" class=\"dataframe\">\n",
              "  <thead>\n",
              "    <tr style=\"text-align: right;\">\n",
              "      <th></th>\n",
              "      <th>Open</th>\n",
              "      <th>High</th>\n",
              "      <th>Low</th>\n",
              "      <th>Close</th>\n",
              "      <th>Volume</th>\n",
              "    </tr>\n",
              "  </thead>\n",
              "  <tbody>\n",
              "    <tr>\n",
              "      <th>0</th>\n",
              "      <td>465.864014</td>\n",
              "      <td>468.174011</td>\n",
              "      <td>452.421997</td>\n",
              "      <td>457.334015</td>\n",
              "      <td>21056800.0</td>\n",
              "    </tr>\n",
              "    <tr>\n",
              "      <th>1</th>\n",
              "      <td>456.859985</td>\n",
              "      <td>456.859985</td>\n",
              "      <td>413.104004</td>\n",
              "      <td>424.440002</td>\n",
              "      <td>34483200.0</td>\n",
              "    </tr>\n",
              "    <tr>\n",
              "      <th>2</th>\n",
              "      <td>424.102997</td>\n",
              "      <td>427.834991</td>\n",
              "      <td>384.532013</td>\n",
              "      <td>394.795990</td>\n",
              "      <td>37919700.0</td>\n",
              "    </tr>\n",
              "    <tr>\n",
              "      <th>3</th>\n",
              "      <td>394.673004</td>\n",
              "      <td>423.295990</td>\n",
              "      <td>389.882996</td>\n",
              "      <td>408.903992</td>\n",
              "      <td>36863600.0</td>\n",
              "    </tr>\n",
              "    <tr>\n",
              "      <th>4</th>\n",
              "      <td>408.084991</td>\n",
              "      <td>412.425995</td>\n",
              "      <td>393.181000</td>\n",
              "      <td>398.821014</td>\n",
              "      <td>26580100.0</td>\n",
              "    </tr>\n",
              "  </tbody>\n",
              "</table>\n",
              "</div>"
            ],
            "text/plain": [
              "         Open        High         Low       Close      Volume\n",
              "0  465.864014  468.174011  452.421997  457.334015  21056800.0\n",
              "1  456.859985  456.859985  413.104004  424.440002  34483200.0\n",
              "2  424.102997  427.834991  384.532013  394.795990  37919700.0\n",
              "3  394.673004  423.295990  389.882996  408.903992  36863600.0\n",
              "4  408.084991  412.425995  393.181000  398.821014  26580100.0"
            ]
          },
          "metadata": {
            "tags": []
          },
          "execution_count": 36
        }
      ]
    },
    {
      "cell_type": "code",
      "metadata": {
        "id": "FJp4UE8_QUjn",
        "outputId": "b59dc730-aa5c-4253-f9ed-95accb2fdbe2",
        "colab": {
          "base_uri": "https://localhost:8080/"
        }
      },
      "source": [
        "scaler=MinMaxScaler()\n",
        "training_data=scaler.fit_transform(training_data)\n",
        "training_data"
      ],
      "execution_count": null,
      "outputs": [
        {
          "output_type": "execute_result",
          "data": {
            "text/plain": [
              "array([[1.49732345e-02, 1.29013200e-02, 1.49400698e-02, 1.44534769e-02,\n",
              "        3.35749244e-04],\n",
              "       [1.45066780e-02, 1.23321258e-02, 1.28489753e-02, 1.27508263e-02,\n",
              "        6.33453324e-04],\n",
              "       [1.28093283e-02, 1.08719155e-02, 1.13293978e-02, 1.12164013e-02,\n",
              "        7.09650970e-04],\n",
              "       ...,\n",
              "       [3.70008086e-01, 3.67365217e-01, 3.78051927e-01, 3.74990337e-01,\n",
              "        4.97548412e-01],\n",
              "       [3.75325771e-01, 3.64390763e-01, 3.77862744e-01, 3.68279031e-01,\n",
              "        5.07057851e-01],\n",
              "       [3.68805505e-01, 3.58377151e-01, 3.72197021e-01, 3.63134123e-01,\n",
              "        4.69226533e-01]])"
            ]
          },
          "metadata": {
            "tags": []
          },
          "execution_count": 37
        }
      ]
    },
    {
      "cell_type": "code",
      "metadata": {
        "id": "s3EXp4UDRUWZ"
      },
      "source": [
        "X_train=[]\n",
        "Y_train=[]"
      ],
      "execution_count": null,
      "outputs": []
    },
    {
      "cell_type": "code",
      "metadata": {
        "id": "IfF729YeReWl",
        "outputId": "74e2b062-2eea-475e-f9d8-cd2dd1c9370d",
        "colab": {
          "base_uri": "https://localhost:8080/"
        }
      },
      "source": [
        "training_data.shape[0]"
      ],
      "execution_count": null,
      "outputs": [
        {
          "output_type": "execute_result",
          "data": {
            "text/plain": [
              "1932"
            ]
          },
          "metadata": {
            "tags": []
          },
          "execution_count": 39
        }
      ]
    },
    {
      "cell_type": "code",
      "metadata": {
        "id": "gpESAOaTRm2J"
      },
      "source": [
        "for i in range(60,training_data.shape[0]):\n",
        "  X_train.append(training_data[i-60:i])\n",
        "  Y_train.append(training_data[i,0])"
      ],
      "execution_count": null,
      "outputs": []
    },
    {
      "cell_type": "code",
      "metadata": {
        "id": "w--kE7fiSBUJ",
        "outputId": "b39a1eba-73ac-4733-d98d-689ea51b03b3",
        "colab": {
          "base_uri": "https://localhost:8080/"
        }
      },
      "source": [
        "X_train,Y_train=np.array(X_train),np.array(Y_train)\n",
        "X_train.shape"
      ],
      "execution_count": null,
      "outputs": [
        {
          "output_type": "execute_result",
          "data": {
            "text/plain": [
              "(1872, 60, 5)"
            ]
          },
          "metadata": {
            "tags": []
          },
          "execution_count": 41
        }
      ]
    },
    {
      "cell_type": "code",
      "metadata": {
        "id": "2mIsGjrMSSPi"
      },
      "source": [
        "from tensorflow.keras import Sequential\n",
        "from tensorflow.keras.layers import Dense, LSTM, Dropout"
      ],
      "execution_count": null,
      "outputs": []
    },
    {
      "cell_type": "code",
      "metadata": {
        "id": "Dwk88UPySn8P"
      },
      "source": [
        "regressor=Sequential()\n",
        "regressor.add(LSTM(units=60,activation='relu',return_sequences=True,input_shape=(X_train.shape[1],5)))\n",
        "regressor.add(Dropout(0.2))"
      ],
      "execution_count": null,
      "outputs": []
    },
    {
      "cell_type": "code",
      "metadata": {
        "id": "-SnX9WtlTaXD"
      },
      "source": [
        "regressor.add(LSTM(units=70,activation='relu',return_sequences=True))\n",
        "regressor.add(Dropout(0.2))\n",
        "\n",
        "\n",
        "regressor.add(LSTM(units=90,activation='relu',return_sequences=True))\n",
        "regressor.add(Dropout(0.2))\n",
        "\n",
        "\n",
        "regressor.add(LSTM(units=140,activation='relu'))\n",
        "regressor.add(Dropout(0.2))\n",
        "\n",
        "regressor.add(Dense(units=1))"
      ],
      "execution_count": null,
      "outputs": []
    },
    {
      "cell_type": "code",
      "metadata": {
        "id": "dYFyKCkYTebv",
        "outputId": "f650f6df-fb7c-41c1-e005-c9e9fb6c2edd",
        "colab": {
          "base_uri": "https://localhost:8080/"
        }
      },
      "source": [
        "regressor.summary()"
      ],
      "execution_count": null,
      "outputs": [
        {
          "output_type": "stream",
          "text": [
            "Model: \"sequential_2\"\n",
            "_________________________________________________________________\n",
            "Layer (type)                 Output Shape              Param #   \n",
            "=================================================================\n",
            "lstm_10 (LSTM)               (None, 60, 60)            15840     \n",
            "_________________________________________________________________\n",
            "dropout_10 (Dropout)         (None, 60, 60)            0         \n",
            "_________________________________________________________________\n",
            "lstm_11 (LSTM)               (None, 60, 70)            36680     \n",
            "_________________________________________________________________\n",
            "dropout_11 (Dropout)         (None, 60, 70)            0         \n",
            "_________________________________________________________________\n",
            "lstm_12 (LSTM)               (None, 60, 90)            57960     \n",
            "_________________________________________________________________\n",
            "dropout_12 (Dropout)         (None, 60, 90)            0         \n",
            "_________________________________________________________________\n",
            "lstm_13 (LSTM)               (None, 140)               129360    \n",
            "_________________________________________________________________\n",
            "dropout_13 (Dropout)         (None, 140)               0         \n",
            "_________________________________________________________________\n",
            "dense (Dense)                (None, 1)                 141       \n",
            "=================================================================\n",
            "Total params: 239,981\n",
            "Trainable params: 239,981\n",
            "Non-trainable params: 0\n",
            "_________________________________________________________________\n"
          ],
          "name": "stdout"
        }
      ]
    },
    {
      "cell_type": "code",
      "metadata": {
        "id": "xaAqocdXUCM9"
      },
      "source": [
        "regressor.compile(optimizer='adam',loss='mean_absolute_error')"
      ],
      "execution_count": null,
      "outputs": []
    },
    {
      "cell_type": "code",
      "metadata": {
        "id": "-VkYZaBEUQDp",
        "outputId": "161ac300-3db4-4a03-a900-813f571f5f23",
        "colab": {
          "base_uri": "https://localhost:8080/"
        }
      },
      "source": [
        "regressor.fit(X_train,Y_train,epochs=20,batch_size=50)"
      ],
      "execution_count": null,
      "outputs": [
        {
          "output_type": "stream",
          "text": [
            "Epoch 1/20\n",
            "38/38 [==============================] - 9s 239ms/step - loss: 0.0786\n",
            "Epoch 2/20\n",
            "38/38 [==============================] - 9s 235ms/step - loss: 0.0320\n",
            "Epoch 3/20\n",
            "38/38 [==============================] - 9s 236ms/step - loss: 0.0291\n",
            "Epoch 4/20\n",
            "38/38 [==============================] - 9s 235ms/step - loss: 0.0268\n",
            "Epoch 5/20\n",
            "38/38 [==============================] - 9s 234ms/step - loss: 0.0259\n",
            "Epoch 6/20\n",
            "38/38 [==============================] - 9s 236ms/step - loss: 0.0280\n",
            "Epoch 7/20\n",
            "38/38 [==============================] - 9s 236ms/step - loss: 0.0240\n",
            "Epoch 8/20\n",
            "38/38 [==============================] - 9s 237ms/step - loss: 0.0234\n",
            "Epoch 9/20\n",
            "38/38 [==============================] - 9s 237ms/step - loss: 0.0248\n",
            "Epoch 10/20\n",
            "38/38 [==============================] - 9s 238ms/step - loss: 0.0226\n",
            "Epoch 11/20\n",
            "38/38 [==============================] - 9s 238ms/step - loss: 0.0242\n",
            "Epoch 12/20\n",
            "38/38 [==============================] - 9s 238ms/step - loss: 0.0235\n",
            "Epoch 13/20\n",
            "38/38 [==============================] - 9s 237ms/step - loss: 0.0230\n",
            "Epoch 14/20\n",
            "38/38 [==============================] - 9s 238ms/step - loss: 0.0217\n",
            "Epoch 15/20\n",
            "38/38 [==============================] - 9s 238ms/step - loss: 0.0214\n",
            "Epoch 16/20\n",
            "38/38 [==============================] - 9s 238ms/step - loss: 0.0212\n",
            "Epoch 17/20\n",
            "38/38 [==============================] - 9s 238ms/step - loss: 0.0203\n",
            "Epoch 18/20\n",
            "38/38 [==============================] - 9s 239ms/step - loss: 0.0201\n",
            "Epoch 19/20\n",
            "38/38 [==============================] - 9s 243ms/step - loss: 0.0188\n",
            "Epoch 20/20\n",
            "38/38 [==============================] - 9s 238ms/step - loss: 0.0191\n"
          ],
          "name": "stdout"
        },
        {
          "output_type": "execute_result",
          "data": {
            "text/plain": [
              "<tensorflow.python.keras.callbacks.History at 0x7f718ec63668>"
            ]
          },
          "metadata": {
            "tags": []
          },
          "execution_count": 47
        }
      ]
    },
    {
      "cell_type": "code",
      "metadata": {
        "id": "JVg3kOjAVFoN",
        "outputId": "99a79007-aa11-4fe7-f715-36853fd905ad",
        "colab": {
          "base_uri": "https://localhost:8080/",
          "height": 204
        }
      },
      "source": [
        "past_60_days= data_training.tail(60)\n",
        "df=past_60_days.append(data_test,ignore_index=True)\n",
        "df=df.drop(['Date','Adj Close'],axis=1)\n",
        "df.head()"
      ],
      "execution_count": null,
      "outputs": [
        {
          "output_type": "execute_result",
          "data": {
            "text/html": [
              "<div>\n",
              "<style scoped>\n",
              "    .dataframe tbody tr th:only-of-type {\n",
              "        vertical-align: middle;\n",
              "    }\n",
              "\n",
              "    .dataframe tbody tr th {\n",
              "        vertical-align: top;\n",
              "    }\n",
              "\n",
              "    .dataframe thead th {\n",
              "        text-align: right;\n",
              "    }\n",
              "</style>\n",
              "<table border=\"1\" class=\"dataframe\">\n",
              "  <thead>\n",
              "    <tr style=\"text-align: right;\">\n",
              "      <th></th>\n",
              "      <th>Open</th>\n",
              "      <th>High</th>\n",
              "      <th>Low</th>\n",
              "      <th>Close</th>\n",
              "      <th>Volume</th>\n",
              "    </tr>\n",
              "  </thead>\n",
              "  <tbody>\n",
              "    <tr>\n",
              "      <th>0</th>\n",
              "      <td>9259.783203</td>\n",
              "      <td>9377.486328</td>\n",
              "      <td>9249.587891</td>\n",
              "      <td>9324.717773</td>\n",
              "      <td>2.124268e+10</td>\n",
              "    </tr>\n",
              "    <tr>\n",
              "      <th>1</th>\n",
              "      <td>9324.787109</td>\n",
              "      <td>9379.806641</td>\n",
              "      <td>9141.251953</td>\n",
              "      <td>9235.354492</td>\n",
              "      <td>2.113222e+10</td>\n",
              "    </tr>\n",
              "    <tr>\n",
              "      <th>2</th>\n",
              "      <td>9235.607422</td>\n",
              "      <td>9505.051758</td>\n",
              "      <td>9191.485352</td>\n",
              "      <td>9412.612305</td>\n",
              "      <td>2.617026e+10</td>\n",
              "    </tr>\n",
              "    <tr>\n",
              "      <th>3</th>\n",
              "      <td>9413.004883</td>\n",
              "      <td>9457.417969</td>\n",
              "      <td>9256.931641</td>\n",
              "      <td>9342.527344</td>\n",
              "      <td>2.619861e+10</td>\n",
              "    </tr>\n",
              "    <tr>\n",
              "      <th>4</th>\n",
              "      <td>9340.864258</td>\n",
              "      <td>9423.237305</td>\n",
              "      <td>9305.909180</td>\n",
              "      <td>9360.879883</td>\n",
              "      <td>2.313390e+10</td>\n",
              "    </tr>\n",
              "  </tbody>\n",
              "</table>\n",
              "</div>"
            ],
            "text/plain": [
              "          Open         High          Low        Close        Volume\n",
              "0  9259.783203  9377.486328  9249.587891  9324.717773  2.124268e+10\n",
              "1  9324.787109  9379.806641  9141.251953  9235.354492  2.113222e+10\n",
              "2  9235.607422  9505.051758  9191.485352  9412.612305  2.617026e+10\n",
              "3  9413.004883  9457.417969  9256.931641  9342.527344  2.619861e+10\n",
              "4  9340.864258  9423.237305  9305.909180  9360.879883  2.313390e+10"
            ]
          },
          "metadata": {
            "tags": []
          },
          "execution_count": 49
        }
      ]
    },
    {
      "cell_type": "code",
      "metadata": {
        "id": "hoW-4crPWuXG",
        "outputId": "698fc281-061e-4e23-a49c-031878dc46d7",
        "colab": {
          "base_uri": "https://localhost:8080/"
        }
      },
      "source": [
        "inputs=scaler.transform(df)\n",
        "inputs"
      ],
      "execution_count": null,
      "outputs": [
        {
          "output_type": "execute_result",
          "data": {
            "text/plain": [
              "array([[0.4706426 , 0.46111744, 0.48280998, 0.47344448, 0.47088353],\n",
              "       [0.47401087, 0.46123417, 0.47704822, 0.46881889, 0.4684344 ],\n",
              "       [0.4693899 , 0.46753509, 0.47971984, 0.47799406, 0.58014293],\n",
              "       ...,\n",
              "       [0.75946577, 0.77604168, 0.77503156, 0.79203007, 0.59038287],\n",
              "       [       nan,        nan,        nan,        nan,        nan],\n",
              "       [0.78370523, 0.75938763, 0.80144591, 0.77966943, 0.75443129]])"
            ]
          },
          "metadata": {
            "tags": []
          },
          "execution_count": 51
        }
      ]
    },
    {
      "cell_type": "code",
      "metadata": {
        "id": "GEQ5EDv1WzdE"
      },
      "source": [
        "X_test=[]\n",
        "Y_test=[]\n",
        "for i in range (60,inputs.shape[0]):\n",
        "  X_test.append(inputs[i-60:i])\n",
        "  Y_test.append(inputs[i,0])"
      ],
      "execution_count": null,
      "outputs": []
    },
    {
      "cell_type": "code",
      "metadata": {
        "id": "mRdW-k9NXkAy",
        "outputId": "60517d06-375f-44bf-94a5-fe54ebce4304",
        "colab": {
          "base_uri": "https://localhost:8080/"
        }
      },
      "source": [
        "X_test,Y_test=np.array(X_test),np.array(Y_test)\n",
        "X_test.shape"
      ],
      "execution_count": null,
      "outputs": [
        {
          "output_type": "execute_result",
          "data": {
            "text/plain": [
              "(314, 60, 5)"
            ]
          },
          "metadata": {
            "tags": []
          },
          "execution_count": 54
        }
      ]
    },
    {
      "cell_type": "code",
      "metadata": {
        "id": "YrDZiwJcX1Yv",
        "outputId": "a349afd9-f7ec-4d62-9295-0db807197176",
        "colab": {
          "base_uri": "https://localhost:8080/"
        }
      },
      "source": [
        "Y_pred=regressor.predict(X_test)\n",
        "Y_pred,Y_test "
      ],
      "execution_count": null,
      "outputs": [
        {
          "output_type": "execute_result",
          "data": {
            "text/plain": [
              "(array([[0.3459398 ],\n",
              "        [0.34492967],\n",
              "        [0.3440113 ],\n",
              "        [0.34313735],\n",
              "        [0.3425974 ],\n",
              "        [0.34305376],\n",
              "        [0.34574682],\n",
              "        [0.351308  ],\n",
              "        [0.3581605 ],\n",
              "        [0.36541933],\n",
              "        [0.37217683],\n",
              "        [0.3776245 ],\n",
              "        [0.38149652],\n",
              "        [0.38679406],\n",
              "        [0.3944174 ],\n",
              "        [0.40282273],\n",
              "        [0.41139072],\n",
              "        [0.4190796 ],\n",
              "        [0.4253323 ],\n",
              "        [0.42862245],\n",
              "        [0.4286164 ],\n",
              "        [0.42585972],\n",
              "        [0.4212639 ],\n",
              "        [0.4154619 ],\n",
              "        [0.40881965],\n",
              "        [0.40241638],\n",
              "        [0.39812335],\n",
              "        [0.39780062],\n",
              "        [0.4015712 ],\n",
              "        [0.40884778],\n",
              "        [0.4178861 ],\n",
              "        [0.42664438],\n",
              "        [0.43434048],\n",
              "        [0.44053128],\n",
              "        [0.44462636],\n",
              "        [0.4476969 ],\n",
              "        [0.45105684],\n",
              "        [0.45483693],\n",
              "        [0.45890588],\n",
              "        [0.4634016 ],\n",
              "        [0.46838653],\n",
              "        [0.47331405],\n",
              "        [0.4791174 ],\n",
              "        [0.48648232],\n",
              "        [0.49389967],\n",
              "        [0.5000477 ],\n",
              "        [0.5037557 ],\n",
              "        [0.50501496],\n",
              "        [0.50485194],\n",
              "        [0.5039108 ],\n",
              "        [0.5016856 ],\n",
              "        [0.49796635],\n",
              "        [0.49256143],\n",
              "        [0.48702192],\n",
              "        [0.4827345 ],\n",
              "        [0.47929797],\n",
              "        [0.47673905],\n",
              "        [0.47383466],\n",
              "        [0.47011858],\n",
              "        [0.46463934],\n",
              "        [0.4575457 ],\n",
              "        [0.45066106],\n",
              "        [0.44515222],\n",
              "        [0.44054964],\n",
              "        [0.43761325],\n",
              "        [0.436887  ],\n",
              "        [0.43748304],\n",
              "        [0.4381936 ],\n",
              "        [0.4383052 ],\n",
              "        [0.43705586],\n",
              "        [0.43392542],\n",
              "        [0.42908397],\n",
              "        [0.42394453],\n",
              "        [0.41547003],\n",
              "        [0.40350947],\n",
              "        [0.38968986],\n",
              "        [0.37502423],\n",
              "        [0.360508  ],\n",
              "        [0.34887567],\n",
              "        [0.34255937],\n",
              "        [0.34065512],\n",
              "        [0.34141323],\n",
              "        [0.34419534],\n",
              "        [0.34910443],\n",
              "        [0.3554263 ],\n",
              "        [0.361143  ],\n",
              "        [0.3649868 ],\n",
              "        [0.36621782],\n",
              "        [0.36399284],\n",
              "        [0.35975373],\n",
              "        [0.35456395],\n",
              "        [0.35009786],\n",
              "        [0.3484138 ],\n",
              "        [0.34916952],\n",
              "        [0.35094067],\n",
              "        [0.3523399 ],\n",
              "        [0.3549356 ],\n",
              "        [0.35930187],\n",
              "        [0.364449  ],\n",
              "        [0.36921293],\n",
              "        [0.37363082],\n",
              "        [0.37587202],\n",
              "        [0.3760929 ],\n",
              "        [0.37495166],\n",
              "        [0.37259948],\n",
              "        [0.3690923 ],\n",
              "        [0.36651397],\n",
              "        [0.36456546],\n",
              "        [0.36312312],\n",
              "        [0.3619844 ],\n",
              "        [0.36142126],\n",
              "        [0.3607259 ],\n",
              "        [0.35985735],\n",
              "        [0.36039516],\n",
              "        [0.36224142],\n",
              "        [0.36493918],\n",
              "        [0.3680718 ],\n",
              "        [0.37174216],\n",
              "        [0.37549862],\n",
              "        [0.38335678],\n",
              "        [0.39833185],\n",
              "        [0.41627097],\n",
              "        [0.4332024 ],\n",
              "        [0.44779268],\n",
              "        [0.45886385],\n",
              "        [0.466027  ],\n",
              "        [0.4709822 ],\n",
              "        [0.47737458],\n",
              "        [0.48518893],\n",
              "        [0.49247903],\n",
              "        [0.4994744 ],\n",
              "        [0.5041175 ],\n",
              "        [0.50378644],\n",
              "        [0.49969876],\n",
              "        [0.49576157],\n",
              "        [0.49248758],\n",
              "        [0.48818606],\n",
              "        [0.483453  ],\n",
              "        [0.4793213 ],\n",
              "        [0.47592074],\n",
              "        [0.4728188 ],\n",
              "        [0.4695716 ],\n",
              "        [0.4648239 ],\n",
              "        [0.45856073],\n",
              "        [0.45160168],\n",
              "        [0.44432032],\n",
              "        [0.43721876],\n",
              "        [0.43145204],\n",
              "        [0.4283981 ],\n",
              "        [0.4283994 ],\n",
              "        [0.4311628 ],\n",
              "        [0.43534875],\n",
              "        [0.44133812],\n",
              "        [0.44900984],\n",
              "        [0.45536083],\n",
              "        [0.4595925 ],\n",
              "        [0.46149957],\n",
              "        [0.46106377],\n",
              "        [0.45927647],\n",
              "        [0.4568677 ],\n",
              "        [0.45467788],\n",
              "        [0.45338905],\n",
              "        [0.45299268],\n",
              "        [0.4520685 ],\n",
              "        [0.45003113],\n",
              "        [0.44711304],\n",
              "        [0.44412735],\n",
              "        [0.4415451 ],\n",
              "        [0.43950358],\n",
              "        [0.43781164],\n",
              "        [0.43639433],\n",
              "        [0.43499294],\n",
              "        [0.43355122],\n",
              "        [0.43292972],\n",
              "        [0.43336722],\n",
              "        [0.4345363 ],\n",
              "        [0.43547127],\n",
              "        [0.43562555],\n",
              "        [0.4346199 ],\n",
              "        [0.4324513 ],\n",
              "        [0.42979214],\n",
              "        [0.42713085],\n",
              "        [0.42494684],\n",
              "        [0.42337242],\n",
              "        [0.42210406],\n",
              "        [0.4209831 ],\n",
              "        [0.41993788],\n",
              "        [0.41962752],\n",
              "        [0.4200512 ],\n",
              "        [0.4215916 ],\n",
              "        [0.4238713 ],\n",
              "        [0.4261097 ],\n",
              "        [0.42766804],\n",
              "        [0.42848817],\n",
              "        [0.4288643 ],\n",
              "        [0.42893368],\n",
              "        [0.4286058 ],\n",
              "        [0.42779118],\n",
              "        [0.42645085],\n",
              "        [0.42472824],\n",
              "        [0.4229192 ],\n",
              "        [0.42134097],\n",
              "        [0.42067066],\n",
              "        [0.42127994],\n",
              "        [0.4234108 ],\n",
              "        [0.42660463],\n",
              "        [0.43043077],\n",
              "        [0.43517187],\n",
              "        [0.44364545],\n",
              "        [0.45616388],\n",
              "        [0.47117138],\n",
              "        [0.48629963],\n",
              "        [0.50003797],\n",
              "        [0.51251656],\n",
              "        [0.52308375],\n",
              "        [0.52963054],\n",
              "        [0.5321631 ],\n",
              "        [0.5325197 ],\n",
              "        [0.5325006 ],\n",
              "        [0.5325157 ],\n",
              "        [0.53218937],\n",
              "        [0.53153414],\n",
              "        [0.53182125],\n",
              "        [0.5324912 ],\n",
              "        [0.5326852 ],\n",
              "        [0.5326438 ],\n",
              "        [0.53298706],\n",
              "        [0.5337916 ],\n",
              "        [0.5347379 ],\n",
              "        [0.5370916 ],\n",
              "        [0.54064023],\n",
              "        [0.54379886],\n",
              "        [0.54533696],\n",
              "        [0.5452378 ],\n",
              "        [0.54318935],\n",
              "        [0.539821  ],\n",
              "        [0.5363601 ],\n",
              "        [0.53335243],\n",
              "        [0.5303999 ],\n",
              "        [0.52753496],\n",
              "        [0.524814  ],\n",
              "        [0.5225724 ],\n",
              "        [0.5214895 ],\n",
              "        [0.52205616],\n",
              "        [0.5249272 ],\n",
              "        [0.5290011 ],\n",
              "        [0.5312125 ],\n",
              "        [0.5293318 ],\n",
              "        [0.52523273],\n",
              "        [0.5190995 ],\n",
              "        [0.51154286],\n",
              "        [0.50343525],\n",
              "        [0.4946688 ],\n",
              "        [0.48979035],\n",
              "        [0.48869923],\n",
              "        [0.48973078],\n",
              "        [0.49152362],\n",
              "        [0.49347028],\n",
              "        [0.49546883],\n",
              "        [0.49753872],\n",
              "        [0.5005423 ],\n",
              "        [0.50302595],\n",
              "        [0.5043906 ],\n",
              "        [0.5047675 ],\n",
              "        [0.50414044],\n",
              "        [0.5017347 ],\n",
              "        [0.497654  ],\n",
              "        [0.49297118],\n",
              "        [0.48896658],\n",
              "        [0.4861913 ],\n",
              "        [0.48487538],\n",
              "        [0.48538885],\n",
              "        [0.48718303],\n",
              "        [0.48975378],\n",
              "        [0.49283817],\n",
              "        [0.49525678],\n",
              "        [0.49612883],\n",
              "        [0.49571827],\n",
              "        [0.4949361 ],\n",
              "        [0.4943647 ],\n",
              "        [0.49368048],\n",
              "        [0.49357003],\n",
              "        [0.49475425],\n",
              "        [0.49782127],\n",
              "        [0.5024861 ],\n",
              "        [0.5089053 ],\n",
              "        [0.51592565],\n",
              "        [0.5223448 ],\n",
              "        [0.52746576],\n",
              "        [0.5308752 ],\n",
              "        [0.5318126 ],\n",
              "        [0.5308058 ],\n",
              "        [0.5296721 ],\n",
              "        [0.5303838 ],\n",
              "        [0.536509  ],\n",
              "        [0.54791033],\n",
              "        [0.5617887 ],\n",
              "        [0.5753046 ],\n",
              "        [0.58678013],\n",
              "        [0.59559274],\n",
              "        [0.60325336],\n",
              "        [0.61020315],\n",
              "        [0.6189954 ],\n",
              "        [0.6251589 ],\n",
              "        [0.62854636],\n",
              "        [0.6288393 ],\n",
              "        [0.6268955 ],\n",
              "        [0.6239747 ],\n",
              "        [0.6223485 ],\n",
              "        [0.6266894 ],\n",
              "        [0.63902545],\n",
              "        [0.65466756],\n",
              "        [0.6689217 ],\n",
              "        [       nan]], dtype=float32),\n",
              " array([0.36404421, 0.35274189, 0.37144485, 0.37481687, 0.37481689,\n",
              "        0.39337909, 0.41375607, 0.40962943, 0.39905949, 0.4137693 ,\n",
              "        0.40708865, 0.41519845, 0.4126678 , 0.4481315 , 0.44746502,\n",
              "        0.44294293, 0.45340995, 0.45414747, 0.44187664, 0.43951171,\n",
              "        0.44392749, 0.44063401, 0.4263802 , 0.42817054, 0.42424758,\n",
              "        0.43631554, 0.45264889, 0.47570441, 0.47355641, 0.48352055,\n",
              "        0.47512856, 0.47738065, 0.47504183, 0.47235558, 0.46668552,\n",
              "        0.48919485, 0.49480043, 0.49827562, 0.50194548, 0.51498586,\n",
              "        0.5015308 , 0.51948498, 0.52578447, 0.51995978, 0.52526089,\n",
              "        0.50325567, 0.50571077, 0.49299865, 0.51644912, 0.48979094,\n",
              "        0.48888192, 0.49281608, 0.49155234, 0.50493469, 0.49093024,\n",
              "        0.47471054, 0.44811855, 0.44623423, 0.44014499, 0.4364425 ,\n",
              "        0.4345515 , 0.45020644, 0.44622457, 0.4447604 , 0.46123923,\n",
              "        0.46348247, 0.45242513, 0.41112436, 0.40133108, 0.40070633,\n",
              "        0.40088905, 0.25083985, 0.27961073, 0.26033447, 0.26987712,\n",
              "        0.25004949, 0.26168413, 0.26263251, 0.31166313, 0.31243352,\n",
              "        0.31134728, 0.29299475, 0.32435757, 0.34000998, 0.33671725,\n",
              "        0.33900849, 0.32594374, 0.3144597 , 0.297874  , 0.3240448 ,\n",
              "        0.32439264, 0.3331733 , 0.34305055, 0.33999267, 0.34642593,\n",
              "        0.34256623, 0.36772799, 0.36283855, 0.37106094, 0.36929136,\n",
              "        0.34667997, 0.34619432, 0.35176711, 0.34542816, 0.34554629,\n",
              "        0.33491835, 0.35958808, 0.35833095, 0.3670688 , 0.36323185,\n",
              "        0.34731958, 0.34730177, 0.35983438, 0.37604647, 0.38207278,\n",
              "        0.3830913 , 0.38875379, 0.39484487, 0.39534968, 0.44669754,\n",
              "        0.44022631, 0.4503966 , 0.45633251, 0.45177945, 0.45266483,\n",
              "        0.45756715, 0.47075205, 0.50569013, 0.50075431, 0.48781382,\n",
              "        0.44451427, 0.43699315, 0.44709745, 0.47124086, 0.49522989,\n",
              "        0.47444888, 0.47660908, 0.49219367, 0.49485539, 0.49476552,\n",
              "        0.48426809, 0.46134423, 0.46677084, 0.46818132, 0.44609842,\n",
              "        0.45249663, 0.44875522, 0.46676477, 0.48455905, 0.47992452,\n",
              "        0.49345852, 0.48120394, 0.51744269, 0.48483913, 0.49116559,\n",
              "        0.49864588, 0.49163452, 0.49101783, 0.49656533, 0.49730614,\n",
              "        0.49832997, 0.50226589, 0.47379859, 0.48209155, 0.48192668,\n",
              "        0.47718452, 0.48072003, 0.48484035, 0.48213466, 0.47844152,\n",
              "        0.47225807, 0.474329  , 0.4727739 , 0.49055528, 0.48993728,\n",
              "        0.4734585 , 0.47070539, 0.46587761, 0.45969264, 0.46443738,\n",
              "        0.46679771, 0.464746  , 0.46915839, 0.46365047, 0.46154624,\n",
              "        0.46371514, 0.46095637, 0.47527384, 0.47029218, 0.47935869,\n",
              "        0.47134596, 0.47156123, 0.46967215, 0.47154534, 0.4695503 ,\n",
              "        0.46971582, 0.4671293 , 0.46401161, 0.46501535, 0.46536886,\n",
              "        0.46688267, 0.46560249, 0.47661687, 0.48449615, 0.48752083,\n",
              "        0.48513576, 0.49242887, 0.5040867 , 0.56171931, 0.55630394,\n",
              "        0.56598738, 0.56652513, 0.57752883, 0.60013086, 0.56308232,\n",
              "        0.57357176, 0.57137578, 0.59967002, 0.60117391, 0.5921402 ,\n",
              "        0.59901994, 0.59513017, 0.6064982 , 0.58177914, 0.59130344,\n",
              "        0.60085082, 0.60064553, 0.60572293, 0.60722419, 0.62568313,\n",
              "        0.61215849, 0.60027259, 0.60631057, 0.59115174, 0.59603382,\n",
              "        0.5952044 , 0.60089899, 0.57982555, 0.58597688, 0.57767006,\n",
              "        0.58884991, 0.58717412, 0.59777539, 0.59601413, 0.61080807,\n",
              "        0.58191359, 0.52093468, 0.53555546, 0.51766255, 0.52355829,\n",
              "        0.52813412, 0.51594922, 0.52155465, 0.5281197 , 0.53023552,\n",
              "        0.53243969, 0.52603181, 0.54411681, 0.55033513, 0.5594284 ,\n",
              "        0.55831789, 0.55738171, 0.56578204, 0.55744248, 0.53281405,\n",
              "        0.53695071, 0.52078515, 0.54772933, 0.5453854 , 0.5480126 ,\n",
              "        0.54898168, 0.54591525, 0.55280415, 0.54967442, 0.54135166,\n",
              "        0.53924874, 0.53842555, 0.54464944, 0.55043962, 0.54111398,\n",
              "        0.54411008, 0.55695119, 0.56387895, 0.5761563 , 0.58115937,\n",
              "        0.58924708, 0.58304611, 0.58291941, 0.58686914, 0.57750565,\n",
              "        0.57926013, 0.58646549, 0.59946812, 0.60812678, 0.6541687 ,\n",
              "        0.66297298, 0.66090164, 0.67004668, 0.66606395, 0.668346  ,\n",
              "        0.69834629, 0.67850495, 0.68713628, 0.69276656, 0.70491559,\n",
              "        0.70263759, 0.69296963, 0.71369812, 0.72319322, 0.79811955,\n",
              "        0.79740197, 0.75946577,        nan, 0.78370523]))"
            ]
          },
          "metadata": {
            "tags": []
          },
          "execution_count": 56
        }
      ]
    },
    {
      "cell_type": "code",
      "metadata": {
        "id": "XokK36JEYPzR",
        "outputId": "949e0c3f-ad6d-4bda-bbfb-fc8151aa8558",
        "colab": {
          "base_uri": "https://localhost:8080/"
        }
      },
      "source": [
        "scaler.scale_"
      ],
      "execution_count": null,
      "outputs": [
        {
          "output_type": "execute_result",
          "data": {
            "text/plain": [
              "array([5.18164146e-05, 5.03087220e-05, 5.31841635e-05, 5.17617168e-05,\n",
              "       2.21730382e-11])"
            ]
          },
          "metadata": {
            "tags": []
          },
          "execution_count": 57
        }
      ]
    },
    {
      "cell_type": "code",
      "metadata": {
        "id": "bhGmtPoHYVee",
        "outputId": "0f40b59b-e25c-44df-aa08-50bd5d07ef37",
        "colab": {
          "base_uri": "https://localhost:8080/"
        }
      },
      "source": [
        "scale=1/5.18164146e-05\n",
        "scale"
      ],
      "execution_count": null,
      "outputs": [
        {
          "output_type": "execute_result",
          "data": {
            "text/plain": [
              "19298.903787912797"
            ]
          },
          "metadata": {
            "tags": []
          },
          "execution_count": 58
        }
      ]
    },
    {
      "cell_type": "code",
      "metadata": {
        "id": "VsMG4AMUYcvb"
      },
      "source": [
        "Y_test=Y_test*scale\n",
        "Y_pred=Y_pred*scale"
      ],
      "execution_count": null,
      "outputs": []
    },
    {
      "cell_type": "code",
      "metadata": {
        "id": "TU9YmidQZKvq",
        "outputId": "0f73465b-df2c-4e3d-b3ea-0bef0c8fe8d8",
        "colab": {
          "base_uri": "https://localhost:8080/"
        }
      },
      "source": [
        "Y_test=Y_test*scale\n",
        "Y_test"
      ],
      "execution_count": null,
      "outputs": [
        {
          "output_type": "execute_result",
          "data": {
            "text/plain": [
              "array([7.00511488e+33, 6.78762999e+33, 7.14752155e+33, 7.21240747e+33,\n",
              "       7.21240796e+33, 7.56959066e+33, 7.96169441e+33, 7.88228758e+33,\n",
              "       7.67889566e+33, 7.96194903e+33, 7.83339676e+33, 7.98944945e+33,\n",
              "       7.94075337e+33, 8.62316315e+33, 8.61033844e+33, 8.52332210e+33,\n",
              "       8.72473350e+33, 8.73892529e+33, 8.50280413e+33, 8.45729694e+33,\n",
              "       8.54226753e+33, 8.47889280e+33, 8.20461399e+33, 8.23906474e+33,\n",
              "       8.16357709e+33, 8.39579465e+33, 8.71008894e+33, 9.15373444e+33,\n",
              "       9.11240152e+33, 9.30413622e+33, 9.14265364e+33, 9.18598947e+33,\n",
              "       9.14098471e+33, 9.08929447e+33, 8.98018859e+33, 9.41332389e+33,\n",
              "       9.52118926e+33, 9.58806058e+33, 9.65867774e+33, 9.90960704e+33,\n",
              "       9.65069821e+33, 9.99618133e+33, 1.01173992e+34, 1.00053176e+34,\n",
              "       1.01073242e+34, 9.68388898e+33, 9.73113132e+33, 9.48651846e+33,\n",
              "       9.93776374e+33, 9.42479416e+33, 9.40730248e+33, 9.48300532e+33,\n",
              "       9.45868795e+33, 9.71619757e+33, 9.44671719e+33, 9.13460985e+33,\n",
              "       8.62291388e+33, 8.58665496e+33, 8.46948289e+33, 8.39823768e+33,\n",
              "       8.36185023e+33, 8.66309002e+33, 8.58646898e+33, 8.55829475e+33,\n",
              "       8.87538845e+33, 8.91855388e+33, 8.70578321e+33, 7.91105383e+33,\n",
              "       7.72260685e+33, 7.71058497e+33, 7.71410103e+33, 4.82678166e+33,\n",
              "       5.38040498e+33, 5.00948181e+33, 5.19310601e+33, 4.81157332e+33,\n",
              "       5.03545254e+33, 5.05370176e+33, 5.99717276e+33, 6.01199697e+33,\n",
              "       5.99109487e+33, 5.63794673e+33, 6.24144531e+33, 6.54263642e+33,\n",
              "       6.47927629e+33, 6.52336528e+33, 6.27196714e+33, 6.05098568e+33,\n",
              "       5.73183551e+33, 6.23542682e+33, 6.24212009e+33, 6.41108171e+33,\n",
              "       6.60114455e+33, 6.54230341e+33, 6.66609523e+33, 6.59182520e+33,\n",
              "       7.07599981e+33, 6.98191483e+33, 7.14013403e+33, 7.10608299e+33,\n",
              "       6.67098373e+33, 6.66163857e+33, 6.76887298e+33, 6.64689566e+33,\n",
              "       6.64916878e+33, 6.44466099e+33, 6.91936776e+33, 6.89517745e+33,\n",
              "       7.06331532e+33, 6.98948297e+33, 6.68329139e+33, 6.68294865e+33,\n",
              "       6.92410728e+33, 7.23606808e+33, 7.35202934e+33, 7.37162813e+33,\n",
              "       7.48058844e+33, 7.59779605e+33, 7.60750975e+33, 8.59557022e+33,\n",
              "       8.47104764e+33, 8.66674922e+33, 8.78097095e+33, 8.69335870e+33,\n",
              "       8.71039566e+33, 8.80472844e+33, 9.05843865e+33, 9.73073405e+33,\n",
              "       9.63575667e+33, 9.38674946e+33, 8.55355864e+33, 8.40883357e+33,\n",
              "       8.60326543e+33, 9.06784467e+33, 9.52945312e+33, 9.12957480e+33,\n",
              "       9.17114238e+33, 9.47102872e+33, 9.52224671e+33, 9.52051741e+33,\n",
              "       9.31852080e+33, 8.87740890e+33, 8.98183026e+33, 9.00897139e+33,\n",
              "       8.58404153e+33, 8.70715905e+33, 8.63516507e+33, 8.98171342e+33,\n",
              "       9.32411962e+33, 9.23493970e+33, 9.49536751e+33, 9.25955892e+33,\n",
              "       9.95688249e+33, 9.32950909e+33, 9.45124590e+33, 9.59518519e+33,\n",
              "       9.46026925e+33, 9.44840268e+33, 9.55515024e+33, 9.56940531e+33,\n",
              "       9.58910634e+33, 9.66484326e+33, 9.11706169e+33, 9.27663872e+33,\n",
              "       9.27346638e+33, 9.18221538e+33, 9.25024735e+33, 9.32953246e+33,\n",
              "       9.27746832e+33, 9.20640325e+33, 9.08741814e+33, 9.12726809e+33,\n",
              "       9.09734411e+33, 9.43950202e+33, 9.42761013e+33, 9.11051740e+33,\n",
              "       9.05754089e+33, 8.96464238e+33, 8.84562806e+33, 8.93692872e+33,\n",
              "       8.98234730e+33, 8.94286736e+33, 9.02777271e+33, 8.92178659e+33,\n",
              "       8.88129594e+33, 8.92303099e+33, 8.86994543e+33, 9.14544916e+33,\n",
              "       9.04958960e+33, 9.22405170e+33, 9.06986706e+33, 9.07400921e+33,\n",
              "       9.03765876e+33, 9.07370347e+33, 9.03531407e+33, 9.03849907e+33,\n",
              "       8.98872801e+33, 8.92873594e+33, 8.94805040e+33, 8.95485272e+33,\n",
              "       8.98398216e+33, 8.95934833e+33, 9.17129233e+33, 9.32290930e+33,\n",
              "       9.38111170e+33, 9.33521697e+33, 9.47555451e+33, 9.69988018e+33,\n",
              "       1.08088746e+34, 1.07046694e+34, 1.08910030e+34, 1.09013506e+34,\n",
              "       1.11130891e+34, 1.15480082e+34, 1.08351024e+34, 1.10369452e+34,\n",
              "       1.09946892e+34, 1.15391407e+34, 1.15680793e+34, 1.13942481e+34,\n",
              "       1.15266315e+34, 1.14517826e+34, 1.16705318e+34, 1.11948757e+34,\n",
              "       1.13781469e+34, 1.15618621e+34, 1.15579118e+34, 1.16556136e+34,\n",
              "       1.16845016e+34, 1.20396974e+34, 1.17794498e+34, 1.15507356e+34,\n",
              "       1.16669213e+34, 1.13752277e+34, 1.14691710e+34, 1.14532110e+34,\n",
              "       1.15627891e+34, 1.11572837e+34, 1.12756506e+34, 1.11158067e+34,\n",
              "       1.13309347e+34, 1.12986885e+34, 1.15026831e+34, 1.14687923e+34,\n",
              "       1.17534644e+34, 1.11974628e+34, 1.00240771e+34, 1.03054172e+34,\n",
              "       9.96111325e+33, 1.00745619e+34, 1.01626123e+34, 9.92814449e+33,\n",
              "       1.00360069e+34, 1.01623348e+34, 1.02030484e+34, 1.02454621e+34,\n",
              "       1.01221586e+34, 1.04701588e+34, 1.05898148e+34, 1.07647920e+34,\n",
              "       1.07434230e+34, 1.07254084e+34, 1.08870517e+34, 1.07265778e+34,\n",
              "       1.02526656e+34, 1.03322652e+34, 1.00211998e+34, 1.05396727e+34,\n",
              "       1.04945696e+34, 1.05451236e+34, 1.05637710e+34, 1.05047653e+34,\n",
              "       1.06373249e+34, 1.05771011e+34, 1.04169505e+34, 1.03764852e+34,\n",
              "       1.03606449e+34, 1.04804080e+34, 1.05918255e+34, 1.04123770e+34,\n",
              "       1.04700293e+34, 1.07171241e+34, 1.08504315e+34, 1.10866783e+34,\n",
              "       1.11829497e+34, 1.13385774e+34, 1.12192554e+34, 1.12168172e+34,\n",
              "       1.12928199e+34, 1.11126431e+34, 1.11464035e+34, 1.12850527e+34,\n",
              "       1.15352556e+34, 1.17018696e+34, 1.25878305e+34, 1.27572469e+34,\n",
              "       1.27173891e+34, 1.28933624e+34, 1.28167248e+34, 1.28606371e+34,\n",
              "       1.34379171e+34, 1.30561205e+34, 1.32222088e+34, 1.33305493e+34,\n",
              "       1.35643267e+34, 1.35204924e+34, 1.33344568e+34, 1.37333244e+34,\n",
              "       1.39160338e+34, 1.53578025e+34, 1.53439944e+34, 1.46140078e+34,\n",
              "                  nan, 1.50804351e+34])"
            ]
          },
          "metadata": {
            "tags": []
          },
          "execution_count": 78
        }
      ]
    },
    {
      "cell_type": "code",
      "metadata": {
        "id": "eFpeloP-YonE",
        "outputId": "081b9dd7-8010-446b-ec0c-4f22f97c7bd7",
        "colab": {
          "base_uri": "https://localhost:8080/"
        }
      },
      "source": [
        "Y_pred"
      ],
      "execution_count": null,
      "outputs": [
        {
          "output_type": "execute_result",
          "data": {
            "text/plain": [
              "array([[ 6676.259 ],\n",
              "       [ 6656.7646],\n",
              "       [ 6639.0415],\n",
              "       [ 6622.175 ],\n",
              "       [ 6611.7544],\n",
              "       [ 6620.5615],\n",
              "       [ 6672.5347],\n",
              "       [ 6779.8594],\n",
              "       [ 6912.105 ],\n",
              "       [ 7052.193 ],\n",
              "       [ 7182.605 ],\n",
              "       [ 7287.7393],\n",
              "       [ 7362.465 ],\n",
              "       [ 7464.7017],\n",
              "       [ 7611.8237],\n",
              "       [ 7774.0376],\n",
              "       [ 7939.39  ],\n",
              "       [ 8087.7773],\n",
              "       [ 8208.447 ],\n",
              "       [ 8271.943 ],\n",
              "       [ 8271.827 ],\n",
              "       [ 8218.626 ],\n",
              "       [ 8129.9316],\n",
              "       [ 8017.9595],\n",
              "       [ 7889.771 ],\n",
              "       [ 7766.1953],\n",
              "       [ 7683.3447],\n",
              "       [ 7677.116 ],\n",
              "       [ 7749.8843],\n",
              "       [ 7890.314 ],\n",
              "       [ 8064.744 ],\n",
              "       [ 8233.77  ],\n",
              "       [ 8382.295 ],\n",
              "       [ 8501.771 ],\n",
              "       [ 8580.802 ],\n",
              "       [ 8640.06  ],\n",
              "       [ 8704.902 ],\n",
              "       [ 8777.8545],\n",
              "       [ 8856.381 ],\n",
              "       [ 8943.143 ],\n",
              "       [ 9039.347 ],\n",
              "       [ 9134.442 ],\n",
              "       [ 9246.44  ],\n",
              "       [ 9388.576 ],\n",
              "       [ 9531.723 ],\n",
              "       [ 9650.372 ],\n",
              "       [ 9721.933 ],\n",
              "       [ 9746.235 ],\n",
              "       [ 9743.089 ],\n",
              "       [ 9724.926 ],\n",
              "       [ 9681.982 ],\n",
              "       [ 9610.205 ],\n",
              "       [ 9505.8955],\n",
              "       [ 9398.989 ],\n",
              "       [ 9316.247 ],\n",
              "       [ 9249.926 ],\n",
              "       [ 9200.541 ],\n",
              "       [ 9144.49  ],\n",
              "       [ 9072.773 ],\n",
              "       [ 8967.03  ],\n",
              "       [ 8830.131 ],\n",
              "       [ 8697.265 ],\n",
              "       [ 8590.95  ],\n",
              "       [ 8502.125 ],\n",
              "       [ 8445.456 ],\n",
              "       [ 8431.44  ],\n",
              "       [ 8442.943 ],\n",
              "       [ 8456.656 ],\n",
              "       [ 8458.811 ],\n",
              "       [ 8434.699 ],\n",
              "       [ 8374.285 ],\n",
              "       [ 8280.851 ],\n",
              "       [ 8181.665 ],\n",
              "       [ 8018.116 ],\n",
              "       [ 7787.2905],\n",
              "       [ 7520.5874],\n",
              "       [ 7237.5566],\n",
              "       [ 6957.409 ],\n",
              "       [ 6732.918 ],\n",
              "       [ 6611.0205],\n",
              "       [ 6574.2705],\n",
              "       [ 6588.9014],\n",
              "       [ 6642.593 ],\n",
              "       [ 6737.333 ],\n",
              "       [ 6859.3384],\n",
              "       [ 6969.664 ],\n",
              "       [ 7043.8457],\n",
              "       [ 7067.6025],\n",
              "       [ 7024.663 ],\n",
              "       [ 6942.8525],\n",
              "       [ 6842.696 ],\n",
              "       [ 6756.5054],\n",
              "       [ 6724.0044],\n",
              "       [ 6738.5894],\n",
              "       [ 6772.7705],\n",
              "       [ 6799.774 ],\n",
              "       [ 6849.8677],\n",
              "       [ 6934.1323],\n",
              "       [ 7033.4663],\n",
              "       [ 7125.405 ],\n",
              "       [ 7210.6655],\n",
              "       [ 7253.918 ],\n",
              "       [ 7258.181 ],\n",
              "       [ 7236.1562],\n",
              "       [ 7190.7617],\n",
              "       [ 7123.0767],\n",
              "       [ 7073.318 ],\n",
              "       [ 7035.714 ],\n",
              "       [ 7007.8784],\n",
              "       [ 6985.9023],\n",
              "       [ 6975.034 ],\n",
              "       [ 6961.6147],\n",
              "       [ 6944.8525],\n",
              "       [ 6955.232 ],\n",
              "       [ 6990.8623],\n",
              "       [ 7042.9263],\n",
              "       [ 7103.3823],\n",
              "       [ 7174.2163],\n",
              "       [ 7246.712 ],\n",
              "       [ 7398.3657],\n",
              "       [ 7687.368 ],\n",
              "       [ 8033.5737],\n",
              "       [ 8360.331 ],\n",
              "       [ 8641.908 ],\n",
              "       [ 8855.569 ],\n",
              "       [ 8993.811 ],\n",
              "       [ 9089.44  ],\n",
              "       [ 9212.807 ],\n",
              "       [ 9363.615 ],\n",
              "       [ 9504.306 ],\n",
              "       [ 9639.309 ],\n",
              "       [ 9728.915 ],\n",
              "       [ 9722.526 ],\n",
              "       [ 9643.639 ],\n",
              "       [ 9567.655 ],\n",
              "       [ 9504.471 ],\n",
              "       [ 9421.456 ],\n",
              "       [ 9330.113 ],\n",
              "       [ 9250.376 ],\n",
              "       [ 9184.749 ],\n",
              "       [ 9124.885 ],\n",
              "       [ 9062.217 ],\n",
              "       [ 8970.592 ],\n",
              "       [ 8849.72  ],\n",
              "       [ 8715.418 ],\n",
              "       [ 8574.8955],\n",
              "       [ 8437.843 ],\n",
              "       [ 8326.552 ],\n",
              "       [ 8267.614 ],\n",
              "       [ 8267.64  ],\n",
              "       [ 8320.97  ],\n",
              "       [ 8401.754 ],\n",
              "       [ 8517.342 ],\n",
              "       [ 8665.397 ],\n",
              "       [ 8787.965 ],\n",
              "       [ 8869.632 ],\n",
              "       [ 8906.437 ],\n",
              "       [ 8898.025 ],\n",
              "       [ 8863.532 ],\n",
              "       [ 8817.046 ],\n",
              "       [ 8774.785 ],\n",
              "       [ 8749.912 ],\n",
              "       [ 8742.263 ],\n",
              "       [ 8724.427 ],\n",
              "       [ 8685.107 ],\n",
              "       [ 8628.792 ],\n",
              "       [ 8571.171 ],\n",
              "       [ 8521.337 ],\n",
              "       [ 8481.9375],\n",
              "       [ 8449.285 ],\n",
              "       [ 8421.933 ],\n",
              "       [ 8394.887 ],\n",
              "       [ 8367.063 ],\n",
              "       [ 8355.069 ],\n",
              "       [ 8363.513 ],\n",
              "       [ 8386.074 ],\n",
              "       [ 8404.118 ],\n",
              "       [ 8407.096 ],\n",
              "       [ 8387.6875],\n",
              "       [ 8345.836 ],\n",
              "       [ 8294.518 ],\n",
              "       [ 8243.157 ],\n",
              "       [ 8201.009 ],\n",
              "       [ 8170.6235],\n",
              "       [ 8146.146 ],\n",
              "       [ 8124.5127],\n",
              "       [ 8104.341 ],\n",
              "       [ 8098.351 ],\n",
              "       [ 8106.528 ],\n",
              "       [ 8136.2563],\n",
              "       [ 8180.252 ],\n",
              "       [ 8223.45  ],\n",
              "       [ 8253.524 ],\n",
              "       [ 8269.353 ],\n",
              "       [ 8276.611 ],\n",
              "       [ 8277.95  ],\n",
              "       [ 8271.622 ],\n",
              "       [ 8255.901 ],\n",
              "       [ 8230.034 ],\n",
              "       [ 8196.79  ],\n",
              "       [ 8161.8774],\n",
              "       [ 8131.419 ],\n",
              "       [ 8118.483 ],\n",
              "       [ 8130.241 ],\n",
              "       [ 8171.3647],\n",
              "       [ 8233.002 ],\n",
              "       [ 8306.842 ],\n",
              "       [ 8398.34  ],\n",
              "       [ 8561.871 ],\n",
              "       [ 8803.463 ],\n",
              "       [ 9093.092 ],\n",
              "       [ 9385.05  ],\n",
              "       [ 9650.185 ],\n",
              "       [ 9891.008 ],\n",
              "       [10094.943 ],\n",
              "       [10221.289 ],\n",
              "       [10270.164 ],\n",
              "       [10277.047 ],\n",
              "       [10276.679 ],\n",
              "       [10276.97  ],\n",
              "       [10270.672 ],\n",
              "       [10258.026 ],\n",
              "       [10263.567 ],\n",
              "       [10276.497 ],\n",
              "       [10280.241 ],\n",
              "       [10279.441 ],\n",
              "       [10286.066 ],\n",
              "       [10301.593 ],\n",
              "       [10319.855 ],\n",
              "       [10365.279 ],\n",
              "       [10433.764 ],\n",
              "       [10494.723 ],\n",
              "       [10524.406 ],\n",
              "       [10522.492 ],\n",
              "       [10482.959 ],\n",
              "       [10417.954 ],\n",
              "       [10351.162 ],\n",
              "       [10293.117 ],\n",
              "       [10236.138 ],\n",
              "       [10180.847 ],\n",
              "       [10128.335 ],\n",
              "       [10085.074 ],\n",
              "       [10064.176 ],\n",
              "       [10075.112 ],\n",
              "       [10130.52  ],\n",
              "       [10209.142 ],\n",
              "       [10251.819 ],\n",
              "       [10215.523 ],\n",
              "       [10136.416 ],\n",
              "       [10018.051 ],\n",
              "       [ 9872.217 ],\n",
              "       [ 9715.749 ],\n",
              "       [ 9546.566 ],\n",
              "       [ 9452.417 ],\n",
              "       [ 9431.359 ],\n",
              "       [ 9451.268 ],\n",
              "       [ 9485.867 ],\n",
              "       [ 9523.436 ],\n",
              "       [ 9562.006 ],\n",
              "       [ 9601.952 ],\n",
              "       [ 9659.918 ],\n",
              "       [ 9707.85  ],\n",
              "       [ 9734.186 ],\n",
              "       [ 9741.459 ],\n",
              "       [ 9729.358 ],\n",
              "       [ 9682.93  ],\n",
              "       [ 9604.177 ],\n",
              "       [ 9513.804 ],\n",
              "       [ 9436.52  ],\n",
              "       [ 9382.959 ],\n",
              "       [ 9357.563 ],\n",
              "       [ 9367.473 ],\n",
              "       [ 9402.099 ],\n",
              "       [ 9451.711 ],\n",
              "       [ 9511.236 ],\n",
              "       [ 9557.913 ],\n",
              "       [ 9574.743 ],\n",
              "       [ 9566.819 ],\n",
              "       [ 9551.725 ],\n",
              "       [ 9540.697 ],\n",
              "       [ 9527.492 ],\n",
              "       [ 9525.36  ],\n",
              "       [ 9548.215 ],\n",
              "       [ 9607.405 ],\n",
              "       [ 9697.432 ],\n",
              "       [ 9821.314 ],\n",
              "       [ 9956.8   ],\n",
              "       [10080.683 ],\n",
              "       [10179.512 ],\n",
              "       [10245.31  ],\n",
              "       [10263.4   ],\n",
              "       [10243.971 ],\n",
              "       [10222.091 ],\n",
              "       [10235.827 ],\n",
              "       [10354.035 ],\n",
              "       [10574.069 ],\n",
              "       [10841.906 ],\n",
              "       [11102.749 ],\n",
              "       [11324.214 ],\n",
              "       [11494.287 ],\n",
              "       [11642.129 ],\n",
              "       [11776.252 ],\n",
              "       [11945.934 ],\n",
              "       [12064.882 ],\n",
              "       [12130.256 ],\n",
              "       [12135.91  ],\n",
              "       [12098.396 ],\n",
              "       [12042.027 ],\n",
              "       [12010.644 ],\n",
              "       [12094.418 ],\n",
              "       [12332.491 ],\n",
              "       [12634.366 ],\n",
              "       [12909.456 ],\n",
              "       [       nan]], dtype=float32)"
            ]
          },
          "metadata": {
            "tags": []
          },
          "execution_count": 63
        }
      ]
    },
    {
      "cell_type": "code",
      "metadata": {
        "id": "386bYInlY20-",
        "outputId": "9993f751-452f-479d-eecf-9ae2f29e6e37",
        "colab": {
          "base_uri": "https://localhost:8080/",
          "height": 350
        }
      },
      "source": [
        "plt.figure(figsize=(14,5))\n",
        "plt.plot(Y_test, color = 'red', label = 'Real Bitcoin Price')\n",
        "plt.title('Bitcoin Price Prediction using RNN-LSTM')\n",
        "plt.xlabel('Time')\n",
        "plt.ylabel('Price')\n",
        "plt.legend()\n",
        "plt.show()"
      ],
      "execution_count": null,
      "outputs": [
        {
          "output_type": "display_data",
          "data": {
            "image/png": "[encoded data removed]",
            "text/plain": [
              "<Figure size 1008x360 with 1 Axes>"
            ]
          },
          "metadata": {
            "tags": [],
            "needs_background": "light"
          }
        }
      ]
    },
    {
      "cell_type": "code",
      "metadata": {
        "id": "qQgnwS4RZ9gg",
        "outputId": "dc856a34-2317-426a-ff7e-299dbb0a1506",
        "colab": {
          "base_uri": "https://localhost:8080/",
          "height": 350
        }
      },
      "source": [
        "plt.figure(figsize=(14,5))\n",
        "plt.plot(Y_pred, color = 'green', label = 'Predicted Bitcoin Price')\n",
        "plt.title('Bitcoin Price Prediction using RNN-LSTM')\n",
        "plt.xlabel('Time')\n",
        "plt.ylabel('Price')\n",
        "plt.legend()\n",
        "plt.show()"
      ],
      "execution_count": null,
      "outputs": [
        {
          "output_type": "display_data",
          "data": {
            "image/png": "[encoded data removed]",
            "text/plain": [
              "<Figure size 1008x360 with 1 Axes>"
            ]
          },
          "metadata": {
            "tags": [],
            "needs_background": "light"
          }
        }
      ]
    }
  ]
}